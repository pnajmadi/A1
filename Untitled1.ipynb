{
  "nbformat": 4,
  "nbformat_minor": 0,
  "metadata": {
    "colab": {
      "provenance": [],
      "authorship_tag": "ABX9TyOMPE5RPmbswAG/NweTv3dV",
      "include_colab_link": true
    },
    "kernelspec": {
      "name": "python3",
      "display_name": "Python 3"
    },
    "language_info": {
      "name": "python"
    }
  },
  "cells": [
    {
      "cell_type": "markdown",
      "metadata": {
        "id": "view-in-github",
        "colab_type": "text"
      },
      "source": [
        "<a href=\"https://colab.research.google.com/github/pnajmadi/A1/blob/main/Untitled1.ipynb\" target=\"_parent\"><img src=\"https://colab.research.google.com/assets/colab-badge.svg\" alt=\"Open In Colab\"/></a>"
      ]
    },
    {
      "cell_type": "code",
      "execution_count": 1,
      "metadata": {
        "colab": {
          "base_uri": "https://localhost:8080/"
        },
        "id": "v0sIaw1Vcu-t",
        "outputId": "95b82d41-e9fd-488c-d9ac-cba34204c4c4"
      },
      "outputs": [
        {
          "output_type": "stream",
          "name": "stdout",
          "text": [
            "Predictions after training:\n",
            "Input: [0 0]\n",
            "Prediction: [0.11575041]\n",
            "Input: [0 1]\n",
            "Prediction: [0.92117588]\n",
            "Input: [1 0]\n",
            "Prediction: [0.92124229]\n",
            "Input: [1 1]\n",
            "Prediction: [0.05181214]\n"
          ]
        }
      ],
      "source": [
        "import numpy as np\n",
        "\n",
        "# Define the sigmoid activation function and its derivative\n",
        "def sigmoid(x):\n",
        "    return 1 / (1 + np.exp(-x))\n",
        "\n",
        "def sigmoid_derivative(x):\n",
        "    return x * (1 - x)\n",
        "\n",
        "# Define the neural network architecture\n",
        "class NeuralNetwork:\n",
        "    def __init__(self, input_size, hidden_size, output_size):\n",
        "        self.weights_hidden = np.random.uniform(size=(input_size, hidden_size))\n",
        "        self.weights_output = np.random.uniform(size=(hidden_size, output_size))\n",
        "\n",
        "    def feedforward(self, X):\n",
        "        self.hidden_activation = sigmoid(np.dot(X, self.weights_hidden))\n",
        "        output = sigmoid(np.dot(self.hidden_activation, self.weights_output))\n",
        "        return output\n",
        "\n",
        "    def backpropagation(self, X, y, learning_rate):\n",
        "        output = self.feedforward(X)\n",
        "\n",
        "        # Calculate the error\n",
        "        error = y - output\n",
        "\n",
        "        # Calculate the gradients for the output layer\n",
        "        output_delta = error * sigmoid_derivative(output)\n",
        "\n",
        "        # Update the weights of the output layer\n",
        "        self.weights_output += learning_rate * np.dot(self.hidden_activation.T, output_delta)\n",
        "\n",
        "        # Calculate the hidden layer error\n",
        "        hidden_error = np.dot(output_delta, self.weights_output.T)\n",
        "        hidden_delta = hidden_error * sigmoid_derivative(self.hidden_activation)\n",
        "\n",
        "        # Update the weights of the hidden layer\n",
        "        self.weights_hidden += learning_rate * np.dot(X.T, hidden_delta)\n",
        "\n",
        "# Example usage\n",
        "X = np.array([[0, 0], [0, 1], [1, 0], [1, 1]])\n",
        "y = np.array([[0], [1], [1], [0]])\n",
        "\n",
        "input_size = 2\n",
        "hidden_size = 3\n",
        "output_size = 1\n",
        "\n",
        "nn = NeuralNetwork(input_size, hidden_size, output_size)\n",
        "\n",
        "# Training the neural network\n",
        "epochs = 10000\n",
        "learning_rate = 0.1\n",
        "\n",
        "for epoch in range(epochs):\n",
        "    nn.backpropagation(X, y, learning_rate)\n",
        "\n",
        "# Making predictions\n",
        "print(\"Predictions after training:\")\n",
        "for i in range(len(X)):\n",
        "    print(\"Input:\", X[i])\n",
        "    print(\"Prediction:\", nn.feedforward(X[i]))"
      ]
    }
  ]
}